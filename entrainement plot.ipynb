{
 "cells": [
  {
   "cell_type": "code",
   "execution_count": 1,
   "metadata": {},
   "outputs": [
    {
     "name": "stdout",
     "output_type": "stream",
     "text": [
      "Collecting dash\n",
      "  Obtaining dependency information for dash from https://files.pythonhosted.org/packages/7b/62/438626ab498869249e99376684ba6d88931e7c2dd86d03a92d9d7a9b4c54/dash-2.14.2-py3-none-any.whl.metadata\n",
      "  Downloading dash-2.14.2-py3-none-any.whl.metadata (11 kB)\n",
      "Collecting Flask<3.1,>=1.0.4 (from dash)\n",
      "  Obtaining dependency information for Flask<3.1,>=1.0.4 from https://files.pythonhosted.org/packages/36/42/015c23096649b908c809c69388a805a571a3bea44362fe87e33fc3afa01f/flask-3.0.0-py3-none-any.whl.metadata\n",
      "  Downloading flask-3.0.0-py3-none-any.whl.metadata (3.6 kB)\n",
      "Collecting Werkzeug<3.1 (from dash)\n",
      "  Obtaining dependency information for Werkzeug<3.1 from https://files.pythonhosted.org/packages/c3/fc/254c3e9b5feb89ff5b9076a23218dafbc99c96ac5941e900b71206e6313b/werkzeug-3.0.1-py3-none-any.whl.metadata\n",
      "  Downloading werkzeug-3.0.1-py3-none-any.whl.metadata (4.1 kB)\n",
      "Requirement already satisfied: plotly>=5.0.0 in c:\\users\\jujud\\anaconda3\\envs\\ada\\lib\\site-packages (from dash) (5.18.0)\n",
      "Collecting dash-html-components==2.0.0 (from dash)\n",
      "  Downloading dash_html_components-2.0.0-py3-none-any.whl (4.1 kB)\n",
      "Collecting dash-core-components==2.0.0 (from dash)\n",
      "  Downloading dash_core_components-2.0.0-py3-none-any.whl (3.8 kB)\n",
      "Collecting dash-table==5.0.0 (from dash)\n",
      "  Downloading dash_table-5.0.0-py3-none-any.whl (3.9 kB)\n",
      "Requirement already satisfied: typing-extensions>=4.1.1 in c:\\users\\jujud\\anaconda3\\envs\\ada\\lib\\site-packages (from dash) (4.7.1)\n",
      "Requirement already satisfied: requests in c:\\users\\jujud\\anaconda3\\envs\\ada\\lib\\site-packages (from dash) (2.31.0)\n",
      "Collecting retrying (from dash)\n",
      "  Downloading retrying-1.3.4-py3-none-any.whl (11 kB)\n",
      "Collecting ansi2html (from dash)\n",
      "  Obtaining dependency information for ansi2html from https://files.pythonhosted.org/packages/42/d7/1bc3433a2406b891182c25a7926abe3eb19af5870d540375ebf7795885b3/ansi2html-1.9.1-py3-none-any.whl.metadata\n",
      "  Downloading ansi2html-1.9.1-py3-none-any.whl.metadata (3.7 kB)\n",
      "Requirement already satisfied: nest-asyncio in c:\\users\\jujud\\anaconda3\\envs\\ada\\lib\\site-packages (from dash) (1.5.6)\n",
      "Requirement already satisfied: setuptools in c:\\users\\jujud\\anaconda3\\envs\\ada\\lib\\site-packages (from dash) (68.0.0)\n",
      "Requirement already satisfied: importlib-metadata in c:\\users\\jujud\\anaconda3\\envs\\ada\\lib\\site-packages (from dash) (6.0.0)\n",
      "Requirement already satisfied: Jinja2>=3.1.2 in c:\\users\\jujud\\anaconda3\\envs\\ada\\lib\\site-packages (from Flask<3.1,>=1.0.4->dash) (3.1.2)\n",
      "Collecting itsdangerous>=2.1.2 (from Flask<3.1,>=1.0.4->dash)\n",
      "  Downloading itsdangerous-2.1.2-py3-none-any.whl (15 kB)\n",
      "Collecting click>=8.1.3 (from Flask<3.1,>=1.0.4->dash)\n",
      "  Obtaining dependency information for click>=8.1.3 from https://files.pythonhosted.org/packages/00/2e/d53fa4befbf2cfa713304affc7ca780ce4fc1fd8710527771b58311a3229/click-8.1.7-py3-none-any.whl.metadata\n",
      "  Downloading click-8.1.7-py3-none-any.whl.metadata (3.0 kB)\n",
      "Collecting blinker>=1.6.2 (from Flask<3.1,>=1.0.4->dash)\n",
      "  Obtaining dependency information for blinker>=1.6.2 from https://files.pythonhosted.org/packages/fa/2a/7f3714cbc6356a0efec525ce7a0613d581072ed6eb53eb7b9754f33db807/blinker-1.7.0-py3-none-any.whl.metadata\n",
      "  Downloading blinker-1.7.0-py3-none-any.whl.metadata (1.9 kB)\n",
      "Requirement already satisfied: zipp>=0.5 in c:\\users\\jujud\\anaconda3\\envs\\ada\\lib\\site-packages (from importlib-metadata->dash) (3.11.0)\n",
      "Requirement already satisfied: tenacity>=6.2.0 in c:\\users\\jujud\\anaconda3\\envs\\ada\\lib\\site-packages (from plotly>=5.0.0->dash) (8.2.3)\n",
      "Requirement already satisfied: packaging in c:\\users\\jujud\\anaconda3\\envs\\ada\\lib\\site-packages (from plotly>=5.0.0->dash) (23.1)\n",
      "Requirement already satisfied: MarkupSafe>=2.1.1 in c:\\users\\jujud\\anaconda3\\envs\\ada\\lib\\site-packages (from Werkzeug<3.1->dash) (2.1.1)\n",
      "Requirement already satisfied: charset-normalizer<4,>=2 in c:\\users\\jujud\\anaconda3\\envs\\ada\\lib\\site-packages (from requests->dash) (2.0.4)\n",
      "Requirement already satisfied: idna<4,>=2.5 in c:\\users\\jujud\\anaconda3\\envs\\ada\\lib\\site-packages (from requests->dash) (3.4)\n",
      "Requirement already satisfied: urllib3<3,>=1.21.1 in c:\\users\\jujud\\anaconda3\\envs\\ada\\lib\\site-packages (from requests->dash) (1.26.16)\n",
      "Requirement already satisfied: certifi>=2017.4.17 in c:\\users\\jujud\\anaconda3\\envs\\ada\\lib\\site-packages (from requests->dash) (2023.7.22)\n",
      "Requirement already satisfied: six>=1.7.0 in c:\\users\\jujud\\anaconda3\\envs\\ada\\lib\\site-packages (from retrying->dash) (1.16.0)\n",
      "Requirement already satisfied: colorama in c:\\users\\jujud\\anaconda3\\envs\\ada\\lib\\site-packages (from click>=8.1.3->Flask<3.1,>=1.0.4->dash) (0.4.6)\n",
      "Downloading dash-2.14.2-py3-none-any.whl (10.2 MB)\n",
      "   ---------------------------------------- 0.0/10.2 MB ? eta -:--:--\n",
      "   - -------------------------------------- 0.4/10.2 MB 9.2 MB/s eta 0:00:02\n",
      "   --- ------------------------------------ 1.0/10.2 MB 10.3 MB/s eta 0:00:01\n",
      "   ------ --------------------------------- 1.6/10.2 MB 11.2 MB/s eta 0:00:01\n",
      "   -------- ------------------------------- 2.2/10.2 MB 12.7 MB/s eta 0:00:01\n",
      "   ----------- ---------------------------- 2.8/10.2 MB 12.8 MB/s eta 0:00:01\n",
      "   ------------- -------------------------- 3.4/10.2 MB 12.0 MB/s eta 0:00:01\n",
      "   --------------- ------------------------ 4.0/10.2 MB 12.0 MB/s eta 0:00:01\n",
      "   ----------------- ---------------------- 4.4/10.2 MB 12.4 MB/s eta 0:00:01\n",
      "   ------------------- -------------------- 5.1/10.2 MB 12.4 MB/s eta 0:00:01\n",
      "   ---------------------- ----------------- 5.7/10.2 MB 12.6 MB/s eta 0:00:01\n",
      "   ------------------------ --------------- 6.3/10.2 MB 12.2 MB/s eta 0:00:01\n",
      "   --------------------------- ------------ 6.9/10.2 MB 12.2 MB/s eta 0:00:01\n",
      "   ----------------------------- ---------- 7.5/10.2 MB 12.2 MB/s eta 0:00:01\n",
      "   ------------------------------- -------- 8.1/10.2 MB 12.3 MB/s eta 0:00:01\n",
      "   ---------------------------------- ----- 8.7/10.2 MB 12.4 MB/s eta 0:00:01\n",
      "   ----------------------------------- ---- 9.1/10.2 MB 12.1 MB/s eta 0:00:01\n",
      "   ------------------------------------- -- 9.7/10.2 MB 11.9 MB/s eta 0:00:01\n",
      "   ---------------------------------------  10.2/10.2 MB 12.1 MB/s eta 0:00:01\n",
      "   ---------------------------------------  10.2/10.2 MB 12.1 MB/s eta 0:00:01\n",
      "   ---------------------------------------  10.2/10.2 MB 12.1 MB/s eta 0:00:01\n",
      "   ---------------------------------------- 10.2/10.2 MB 10.7 MB/s eta 0:00:00\n",
      "Downloading flask-3.0.0-py3-none-any.whl (99 kB)\n",
      "   ---------------------------------------- 0.0/99.7 kB ? eta -:--:--\n",
      "   ---------------------------------------- 99.7/99.7 kB 2.8 MB/s eta 0:00:00\n",
      "Downloading werkzeug-3.0.1-py3-none-any.whl (226 kB)\n",
      "   ---------------------------------------- 0.0/226.7 kB ? eta -:--:--\n",
      "   --------------------------------------- 226.7/226.7 kB 14.4 MB/s eta 0:00:00\n",
      "Downloading ansi2html-1.9.1-py3-none-any.whl (17 kB)\n",
      "Downloading blinker-1.7.0-py3-none-any.whl (13 kB)\n",
      "Downloading click-8.1.7-py3-none-any.whl (97 kB)\n",
      "   ---------------------------------------- 0.0/97.9 kB ? eta -:--:--\n",
      "   ---------------------------------------- 97.9/97.9 kB ? eta 0:00:00\n",
      "Installing collected packages: dash-table, dash-html-components, dash-core-components, Werkzeug, retrying, itsdangerous, click, blinker, ansi2html, Flask, dash\n",
      "Successfully installed Flask-3.0.0 Werkzeug-3.0.1 ansi2html-1.9.1 blinker-1.7.0 click-8.1.7 dash-2.14.2 dash-core-components-2.0.0 dash-html-components-2.0.0 dash-table-5.0.0 itsdangerous-2.1.2 retrying-1.3.4\n"
     ]
    }
   ],
   "source": [
    "!pip install dash"
   ]
  },
  {
   "cell_type": "code",
   "execution_count": 2,
   "metadata": {},
   "outputs": [
    {
     "name": "stdout",
     "output_type": "stream",
     "text": [
      "Requirement already satisfied: dash in c:\\users\\jujud\\anaconda3\\envs\\ada\\lib\\site-packages (2.14.2)\n",
      "Requirement already satisfied: plotly in c:\\users\\jujud\\anaconda3\\envs\\ada\\lib\\site-packages (5.18.0)\n",
      "Requirement already satisfied: Flask<3.1,>=1.0.4 in c:\\users\\jujud\\anaconda3\\envs\\ada\\lib\\site-packages (from dash) (3.0.0)\n",
      "Requirement already satisfied: Werkzeug<3.1 in c:\\users\\jujud\\anaconda3\\envs\\ada\\lib\\site-packages (from dash) (3.0.1)\n",
      "Requirement already satisfied: dash-html-components==2.0.0 in c:\\users\\jujud\\anaconda3\\envs\\ada\\lib\\site-packages (from dash) (2.0.0)\n",
      "Requirement already satisfied: dash-core-components==2.0.0 in c:\\users\\jujud\\anaconda3\\envs\\ada\\lib\\site-packages (from dash) (2.0.0)\n",
      "Requirement already satisfied: dash-table==5.0.0 in c:\\users\\jujud\\anaconda3\\envs\\ada\\lib\\site-packages (from dash) (5.0.0)\n",
      "Requirement already satisfied: typing-extensions>=4.1.1 in c:\\users\\jujud\\anaconda3\\envs\\ada\\lib\\site-packages (from dash) (4.7.1)\n",
      "Requirement already satisfied: requests in c:\\users\\jujud\\anaconda3\\envs\\ada\\lib\\site-packages (from dash) (2.31.0)\n",
      "Requirement already satisfied: retrying in c:\\users\\jujud\\anaconda3\\envs\\ada\\lib\\site-packages (from dash) (1.3.4)\n",
      "Requirement already satisfied: ansi2html in c:\\users\\jujud\\anaconda3\\envs\\ada\\lib\\site-packages (from dash) (1.9.1)\n",
      "Requirement already satisfied: nest-asyncio in c:\\users\\jujud\\anaconda3\\envs\\ada\\lib\\site-packages (from dash) (1.5.6)\n",
      "Requirement already satisfied: setuptools in c:\\users\\jujud\\anaconda3\\envs\\ada\\lib\\site-packages (from dash) (68.0.0)\n",
      "Requirement already satisfied: importlib-metadata in c:\\users\\jujud\\anaconda3\\envs\\ada\\lib\\site-packages (from dash) (6.0.0)\n",
      "Requirement already satisfied: tenacity>=6.2.0 in c:\\users\\jujud\\anaconda3\\envs\\ada\\lib\\site-packages (from plotly) (8.2.3)\n",
      "Requirement already satisfied: packaging in c:\\users\\jujud\\anaconda3\\envs\\ada\\lib\\site-packages (from plotly) (23.1)\n",
      "Requirement already satisfied: Jinja2>=3.1.2 in c:\\users\\jujud\\anaconda3\\envs\\ada\\lib\\site-packages (from Flask<3.1,>=1.0.4->dash) (3.1.2)\n",
      "Requirement already satisfied: itsdangerous>=2.1.2 in c:\\users\\jujud\\anaconda3\\envs\\ada\\lib\\site-packages (from Flask<3.1,>=1.0.4->dash) (2.1.2)\n",
      "Requirement already satisfied: click>=8.1.3 in c:\\users\\jujud\\anaconda3\\envs\\ada\\lib\\site-packages (from Flask<3.1,>=1.0.4->dash) (8.1.7)\n",
      "Requirement already satisfied: blinker>=1.6.2 in c:\\users\\jujud\\anaconda3\\envs\\ada\\lib\\site-packages (from Flask<3.1,>=1.0.4->dash) (1.7.0)\n",
      "Requirement already satisfied: zipp>=0.5 in c:\\users\\jujud\\anaconda3\\envs\\ada\\lib\\site-packages (from importlib-metadata->dash) (3.11.0)\n",
      "Requirement already satisfied: MarkupSafe>=2.1.1 in c:\\users\\jujud\\anaconda3\\envs\\ada\\lib\\site-packages (from Werkzeug<3.1->dash) (2.1.1)\n",
      "Requirement already satisfied: charset-normalizer<4,>=2 in c:\\users\\jujud\\anaconda3\\envs\\ada\\lib\\site-packages (from requests->dash) (2.0.4)\n",
      "Requirement already satisfied: idna<4,>=2.5 in c:\\users\\jujud\\anaconda3\\envs\\ada\\lib\\site-packages (from requests->dash) (3.4)\n",
      "Requirement already satisfied: urllib3<3,>=1.21.1 in c:\\users\\jujud\\anaconda3\\envs\\ada\\lib\\site-packages (from requests->dash) (1.26.16)\n",
      "Requirement already satisfied: certifi>=2017.4.17 in c:\\users\\jujud\\anaconda3\\envs\\ada\\lib\\site-packages (from requests->dash) (2023.7.22)\n",
      "Requirement already satisfied: six>=1.7.0 in c:\\users\\jujud\\anaconda3\\envs\\ada\\lib\\site-packages (from retrying->dash) (1.16.0)\n",
      "Requirement already satisfied: colorama in c:\\users\\jujud\\anaconda3\\envs\\ada\\lib\\site-packages (from click>=8.1.3->Flask<3.1,>=1.0.4->dash) (0.4.6)\n"
     ]
    }
   ],
   "source": [
    "!pip install dash plotly"
   ]
  },
  {
   "cell_type": "code",
   "execution_count": 3,
   "metadata": {},
   "outputs": [
    {
     "data": {
      "text/html": [
       "\n",
       "        <iframe\n",
       "            width=\"100%\"\n",
       "            height=\"650\"\n",
       "            src=\"http://127.0.0.1:8050/\"\n",
       "            frameborder=\"0\"\n",
       "            allowfullscreen\n",
       "            \n",
       "        ></iframe>\n",
       "        "
      ],
      "text/plain": [
       "<IPython.lib.display.IFrame at 0x21bbf2f9f40>"
      ]
     },
     "metadata": {},
     "output_type": "display_data"
    }
   ],
   "source": [
    "import dash\n",
    "from dash import dcc, html\n",
    "import plotly.graph_objs as go\n",
    "import plotly.offline as pyo\n",
    "\n",
    "# Initialize the Dash app\n",
    "app = dash.Dash(__name__)\n",
    "\n",
    "# Create the figure\n",
    "figure = {\n",
    "    'data': [\n",
    "        {'x': [1, 2, 3], 'y': [4, 1, 2], 'type': 'bar', 'name': 'SF'},\n",
    "        {'x': [1, 2, 3], 'y': [2, 4, 5], 'type': 'bar', 'name': 'Montreal'},\n",
    "    ],\n",
    "    'layout': {\n",
    "        'title': 'Interactive Plot Example'\n",
    "    }\n",
    "}\n",
    "\n",
    "# Define the layout of the app\n",
    "app.layout = html.Div(children=[\n",
    "    html.H1(children='Interactive Plot with Dash'),\n",
    "\n",
    "    dcc.Graph(\n",
    "        id='example-graph',\n",
    "        figure=figure\n",
    "    )\n",
    "])\n",
    "\n",
    "# Save the figure as an interactive HTML file\n",
    "pyo.plot(figure, filename='interactive_plot.html', auto_open=False)\n",
    "\n",
    "# Run the app\n",
    "if __name__ == '__main__':\n",
    "    app.run_server(debug=True)\n",
    "\n",
    "\n"
   ]
  }
 ],
 "metadata": {
  "kernelspec": {
   "display_name": "ada",
   "language": "python",
   "name": "python3"
  },
  "language_info": {
   "codemirror_mode": {
    "name": "ipython",
    "version": 3
   },
   "file_extension": ".py",
   "mimetype": "text/x-python",
   "name": "python",
   "nbconvert_exporter": "python",
   "pygments_lexer": "ipython3",
   "version": "3.9.18"
  }
 },
 "nbformat": 4,
 "nbformat_minor": 2
}
